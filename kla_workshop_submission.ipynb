{
 "cells": [
  {
   "cell_type": "markdown",
   "id": "f5f8aa5a",
   "metadata": {},
   "source": [
    "# KLA Workshop"
   ]
  },
  {
   "cell_type": "code",
   "execution_count": 16,
   "id": "1206ffab",
   "metadata": {},
   "outputs": [],
   "source": [
    "import yaml\n",
    "import datetime\n",
    "import time"
   ]
  },
  {
   "cell_type": "code",
   "execution_count": 4,
   "id": "f38f54e3",
   "metadata": {},
   "outputs": [],
   "source": [
    "with open('DataSet/Milestone1/Milestone1A.yaml', 'r') as file:\n",
    "    milestone_1 = yaml.safe_load(file)"
   ]
  },
  {
   "cell_type": "code",
   "execution_count": 5,
   "id": "bea20434",
   "metadata": {},
   "outputs": [
    {
     "data": {
      "text/plain": [
       "{'M1A_Workflow': {'Type': 'Flow',\n",
       "  'Execution': 'Sequential',\n",
       "  'Activities': {'TaskA': {'Type': 'Task',\n",
       "    'Function': 'TimeFunction',\n",
       "    'Inputs': {'FunctionInput': 'TaskA_Input', 'ExecutionTime': '1'}},\n",
       "   'TaskB': {'Type': 'Task',\n",
       "    'Function': 'TimeFunction',\n",
       "    'Inputs': {'FunctionInput': 'TaskB_Input', 'ExecutionTime': '2'}},\n",
       "   'FlowA': {'Type': 'Flow',\n",
       "    'Execution': 'Sequential',\n",
       "    'Activities': {'TaskC': {'Type': 'Task',\n",
       "      'Function': 'TimeFunction',\n",
       "      'Inputs': {'FunctionInput': 'TaskC_Input', 'ExecutionTime': '3'}},\n",
       "     'TaskD': {'Type': 'Task',\n",
       "      'Function': 'TimeFunction',\n",
       "      'Inputs': {'FunctionInput': 'TaskD_Input', 'ExecutionTime': '4'}}}}}}}"
      ]
     },
     "execution_count": 5,
     "metadata": {},
     "output_type": "execute_result"
    }
   ],
   "source": [
    "milestone_1"
   ]
  },
  {
   "cell_type": "code",
   "execution_count": 11,
   "id": "6babc9a6",
   "metadata": {},
   "outputs": [
    {
     "name": "stdout",
     "output_type": "stream",
     "text": [
      "{'Type': 'Flow', 'Execution': 'Sequential', 'Activities': {'TaskA': {'Type': 'Task', 'Function': 'TimeFunction', 'Inputs': {'FunctionInput': 'TaskA_Input', 'ExecutionTime': '1'}}, 'TaskB': {'Type': 'Task', 'Function': 'TimeFunction', 'Inputs': {'FunctionInput': 'TaskB_Input', 'ExecutionTime': '2'}}, 'FlowA': {'Type': 'Flow', 'Execution': 'Sequential', 'Activities': {'TaskC': {'Type': 'Task', 'Function': 'TimeFunction', 'Inputs': {'FunctionInput': 'TaskC_Input', 'ExecutionTime': '3'}}, 'TaskD': {'Type': 'Task', 'Function': 'TimeFunction', 'Inputs': {'FunctionInput': 'TaskD_Input', 'ExecutionTime': '4'}}}}}}\n"
     ]
    }
   ],
   "source": [
    "for key in milestone_1:\n",
    "    print(milestone_1[key])"
   ]
  },
  {
   "cell_type": "code",
   "execution_count": 13,
   "id": "2fcdff41",
   "metadata": {},
   "outputs": [
    {
     "name": "stdout",
     "output_type": "stream",
     "text": [
      "('M1A_Workflow', 'Type', 'Flow')\n",
      "('M1A_Workflow', 'Execution', 'Sequential')\n",
      "('M1A_Workflow', 'Activities', 'TaskA', 'Type', 'Task')\n",
      "('M1A_Workflow', 'Activities', 'TaskA', 'Function', 'TimeFunction')\n",
      "('M1A_Workflow', 'Activities', 'TaskA', 'Inputs', 'FunctionInput', 'TaskA_Input')\n",
      "('M1A_Workflow', 'Activities', 'TaskA', 'Inputs', 'ExecutionTime', '1')\n",
      "('M1A_Workflow', 'Activities', 'TaskB', 'Type', 'Task')\n",
      "('M1A_Workflow', 'Activities', 'TaskB', 'Function', 'TimeFunction')\n",
      "('M1A_Workflow', 'Activities', 'TaskB', 'Inputs', 'FunctionInput', 'TaskB_Input')\n",
      "('M1A_Workflow', 'Activities', 'TaskB', 'Inputs', 'ExecutionTime', '2')\n",
      "('M1A_Workflow', 'Activities', 'FlowA', 'Type', 'Flow')\n",
      "('M1A_Workflow', 'Activities', 'FlowA', 'Execution', 'Sequential')\n",
      "('M1A_Workflow', 'Activities', 'FlowA', 'Activities', 'TaskC', 'Type', 'Task')\n",
      "('M1A_Workflow', 'Activities', 'FlowA', 'Activities', 'TaskC', 'Function', 'TimeFunction')\n",
      "('M1A_Workflow', 'Activities', 'FlowA', 'Activities', 'TaskC', 'Inputs', 'FunctionInput', 'TaskC_Input')\n",
      "('M1A_Workflow', 'Activities', 'FlowA', 'Activities', 'TaskC', 'Inputs', 'ExecutionTime', '3')\n",
      "('M1A_Workflow', 'Activities', 'FlowA', 'Activities', 'TaskD', 'Type', 'Task')\n",
      "('M1A_Workflow', 'Activities', 'FlowA', 'Activities', 'TaskD', 'Function', 'TimeFunction')\n",
      "('M1A_Workflow', 'Activities', 'FlowA', 'Activities', 'TaskD', 'Inputs', 'FunctionInput', 'TaskD_Input')\n",
      "('M1A_Workflow', 'Activities', 'FlowA', 'Activities', 'TaskD', 'Inputs', 'ExecutionTime', '4')\n"
     ]
    }
   ],
   "source": [
    "def nested_dict_pairs_iterator(dict_obj):\n",
    "    for key, value in dict_obj.items():\n",
    "        if isinstance(value, dict):\n",
    "            for pair in  nested_dict_pairs_iterator(value):\n",
    "                yield (key, *pair)\n",
    "        else:\n",
    "            yield (key, value)\n",
    "final_list = []\n",
    "for pair in nested_dict_pairs_iterator(milestone_1):\n",
    "    final_list.append(pair)\n",
    "    print(pair)"
   ]
  },
  {
   "cell_type": "code",
   "execution_count": 14,
   "id": "4bc8af05",
   "metadata": {},
   "outputs": [
    {
     "data": {
      "text/plain": [
       "[('M1A_Workflow', 'Type', 'Flow'),\n",
       " ('M1A_Workflow', 'Execution', 'Sequential'),\n",
       " ('M1A_Workflow', 'Activities', 'TaskA', 'Type', 'Task'),\n",
       " ('M1A_Workflow', 'Activities', 'TaskA', 'Function', 'TimeFunction'),\n",
       " ('M1A_Workflow',\n",
       "  'Activities',\n",
       "  'TaskA',\n",
       "  'Inputs',\n",
       "  'FunctionInput',\n",
       "  'TaskA_Input'),\n",
       " ('M1A_Workflow', 'Activities', 'TaskA', 'Inputs', 'ExecutionTime', '1'),\n",
       " ('M1A_Workflow', 'Activities', 'TaskB', 'Type', 'Task'),\n",
       " ('M1A_Workflow', 'Activities', 'TaskB', 'Function', 'TimeFunction'),\n",
       " ('M1A_Workflow',\n",
       "  'Activities',\n",
       "  'TaskB',\n",
       "  'Inputs',\n",
       "  'FunctionInput',\n",
       "  'TaskB_Input'),\n",
       " ('M1A_Workflow', 'Activities', 'TaskB', 'Inputs', 'ExecutionTime', '2'),\n",
       " ('M1A_Workflow', 'Activities', 'FlowA', 'Type', 'Flow'),\n",
       " ('M1A_Workflow', 'Activities', 'FlowA', 'Execution', 'Sequential'),\n",
       " ('M1A_Workflow',\n",
       "  'Activities',\n",
       "  'FlowA',\n",
       "  'Activities',\n",
       "  'TaskC',\n",
       "  'Type',\n",
       "  'Task'),\n",
       " ('M1A_Workflow',\n",
       "  'Activities',\n",
       "  'FlowA',\n",
       "  'Activities',\n",
       "  'TaskC',\n",
       "  'Function',\n",
       "  'TimeFunction'),\n",
       " ('M1A_Workflow',\n",
       "  'Activities',\n",
       "  'FlowA',\n",
       "  'Activities',\n",
       "  'TaskC',\n",
       "  'Inputs',\n",
       "  'FunctionInput',\n",
       "  'TaskC_Input'),\n",
       " ('M1A_Workflow',\n",
       "  'Activities',\n",
       "  'FlowA',\n",
       "  'Activities',\n",
       "  'TaskC',\n",
       "  'Inputs',\n",
       "  'ExecutionTime',\n",
       "  '3'),\n",
       " ('M1A_Workflow',\n",
       "  'Activities',\n",
       "  'FlowA',\n",
       "  'Activities',\n",
       "  'TaskD',\n",
       "  'Type',\n",
       "  'Task'),\n",
       " ('M1A_Workflow',\n",
       "  'Activities',\n",
       "  'FlowA',\n",
       "  'Activities',\n",
       "  'TaskD',\n",
       "  'Function',\n",
       "  'TimeFunction'),\n",
       " ('M1A_Workflow',\n",
       "  'Activities',\n",
       "  'FlowA',\n",
       "  'Activities',\n",
       "  'TaskD',\n",
       "  'Inputs',\n",
       "  'FunctionInput',\n",
       "  'TaskD_Input'),\n",
       " ('M1A_Workflow',\n",
       "  'Activities',\n",
       "  'FlowA',\n",
       "  'Activities',\n",
       "  'TaskD',\n",
       "  'Inputs',\n",
       "  'ExecutionTime',\n",
       "  '4')]"
      ]
     },
     "execution_count": 14,
     "metadata": {},
     "output_type": "execute_result"
    }
   ],
   "source": [
    "final_list"
   ]
  },
  {
   "cell_type": "code",
   "execution_count": 42,
   "id": "5937a4cc",
   "metadata": {},
   "outputs": [
    {
     "name": "stdout",
     "output_type": "stream",
     "text": [
      "('M1A_Workflow', 'Type')\n",
      "('M1A_Workflow', 'Execution')\n",
      "('M1A_Workflow', 'Activities', 'TaskA', 'Type')\n",
      "('M1A_Workflow', 'Activities', 'TaskA', 'Function')\n",
      "('M1A_Workflow', 'Activities', 'TaskA', 'Inputs', 'FunctionInput')\n",
      "('M1A_Workflow', 'Activities', 'TaskA', 'Inputs', 'ExecutionTime')\n",
      "('M1A_Workflow', 'Activities', 'TaskB', 'Type')\n",
      "('M1A_Workflow', 'Activities', 'TaskB', 'Function')\n",
      "('M1A_Workflow', 'Activities', 'TaskB', 'Inputs', 'FunctionInput')\n",
      "('M1A_Workflow', 'Activities', 'TaskB', 'Inputs', 'ExecutionTime')\n",
      "('M1A_Workflow', 'Activities', 'FlowA', 'Type')\n",
      "('M1A_Workflow', 'Activities', 'FlowA', 'Execution')\n",
      "('M1A_Workflow', 'Activities', 'FlowA', 'Activities', 'TaskC', 'Type')\n",
      "('M1A_Workflow', 'Activities', 'FlowA', 'Activities', 'TaskC', 'Function')\n",
      "('M1A_Workflow', 'Activities', 'FlowA', 'Activities', 'TaskC', 'Inputs', 'FunctionInput')\n",
      "('M1A_Workflow', 'Activities', 'FlowA', 'Activities', 'TaskC', 'Inputs', 'ExecutionTime')\n",
      "('M1A_Workflow', 'Activities', 'FlowA', 'Activities', 'TaskD', 'Type')\n",
      "('M1A_Workflow', 'Activities', 'FlowA', 'Activities', 'TaskD', 'Function')\n",
      "('M1A_Workflow', 'Activities', 'FlowA', 'Activities', 'TaskD', 'Inputs', 'FunctionInput')\n",
      "('M1A_Workflow', 'Activities', 'FlowA', 'Activities', 'TaskD', 'Inputs', 'ExecutionTime')\n"
     ]
    }
   ],
   "source": [
    "log_file = []\n",
    "time_t = 0\n",
    "for i in range(len(final_list)):\n",
    "    \n",
    "    str1 = ''\n",
    "    tuple_ = final_list[i]\n",
    "    tuple_ = tuple_[0:-1]\n",
    "    last = tuple_[-1]\n",
    "    str1 = str1 + str(datetime.datetime.now()) + ';'\n",
    "    if len(last) == 1:\n",
    "        time_t = int(t[-1])\n",
    "    str1 += '.'.join(tuple_)\n",
    "    TimeFunction(time_t)\n",
    "    log_file.append(str1)"
   ]
  },
  {
   "cell_type": "code",
   "execution_count": 43,
   "id": "79aa9adb",
   "metadata": {},
   "outputs": [
    {
     "data": {
      "text/plain": [
       "['2022-03-08 10:22:31.910308;M1A_Workflow.Type Type',\n",
       " '2022-03-08 10:22:31.910308;M1A_Workflow.Execution Execution',\n",
       " '2022-03-08 10:22:31.910308;M1A_Workflow.Activities.TaskA.Type Type',\n",
       " '2022-03-08 10:22:31.910308;M1A_Workflow.Activities.TaskA.Function Function',\n",
       " '2022-03-08 10:22:31.910308;M1A_Workflow.Activities.TaskA.Inputs.FunctionInput FunctionInput',\n",
       " '2022-03-08 10:22:31.910308;M1A_Workflow.Activities.TaskA.Inputs.ExecutionTime ExecutionTime',\n",
       " '2022-03-08 10:22:31.910308;M1A_Workflow.Activities.TaskB.Type Type',\n",
       " '2022-03-08 10:22:31.910308;M1A_Workflow.Activities.TaskB.Function Function',\n",
       " '2022-03-08 10:22:31.910308;M1A_Workflow.Activities.TaskB.Inputs.FunctionInput FunctionInput',\n",
       " '2022-03-08 10:22:31.910308;M1A_Workflow.Activities.TaskB.Inputs.ExecutionTime ExecutionTime',\n",
       " '2022-03-08 10:22:31.910308;M1A_Workflow.Activities.FlowA.Type Type',\n",
       " '2022-03-08 10:22:31.910308;M1A_Workflow.Activities.FlowA.Execution Execution',\n",
       " '2022-03-08 10:22:31.910308;M1A_Workflow.Activities.FlowA.Activities.TaskC.Type Type',\n",
       " '2022-03-08 10:22:31.910308;M1A_Workflow.Activities.FlowA.Activities.TaskC.Function Function',\n",
       " '2022-03-08 10:22:31.910308;M1A_Workflow.Activities.FlowA.Activities.TaskC.Inputs.FunctionInput FunctionInput',\n",
       " '2022-03-08 10:22:31.910308;M1A_Workflow.Activities.FlowA.Activities.TaskC.Inputs.ExecutionTime ExecutionTime',\n",
       " '2022-03-08 10:22:31.910308;M1A_Workflow.Activities.FlowA.Activities.TaskD.Type Type',\n",
       " '2022-03-08 10:22:31.911310;M1A_Workflow.Activities.FlowA.Activities.TaskD.Function Function',\n",
       " '2022-03-08 10:22:31.911310;M1A_Workflow.Activities.FlowA.Activities.TaskD.Inputs.FunctionInput FunctionInput',\n",
       " '2022-03-08 10:22:31.911310;M1A_Workflow.Activities.FlowA.Activities.TaskD.Inputs.ExecutionTime ExecutionTime']"
      ]
     },
     "execution_count": 43,
     "metadata": {},
     "output_type": "execute_result"
    }
   ],
   "source": [
    "log_file"
   ]
  },
  {
   "cell_type": "code",
   "execution_count": 44,
   "id": "a12746af",
   "metadata": {},
   "outputs": [
    {
     "data": {
      "text/plain": [
       "{'M1A_Workflow': {'Type': 'Flow',\n",
       "  'Execution': 'Sequential',\n",
       "  'Activities': {'TaskA': {'Type': 'Task',\n",
       "    'Function': 'TimeFunction',\n",
       "    'Inputs': {'FunctionInput': 'TaskA_Input', 'ExecutionTime': '1'}},\n",
       "   'TaskB': {'Type': 'Task',\n",
       "    'Function': 'TimeFunction',\n",
       "    'Inputs': {'FunctionInput': 'TaskB_Input', 'ExecutionTime': '2'}},\n",
       "   'FlowA': {'Type': 'Flow',\n",
       "    'Execution': 'Sequential',\n",
       "    'Activities': {'TaskC': {'Type': 'Task',\n",
       "      'Function': 'TimeFunction',\n",
       "      'Inputs': {'FunctionInput': 'TaskC_Input', 'ExecutionTime': '3'}},\n",
       "     'TaskD': {'Type': 'Task',\n",
       "      'Function': 'TimeFunction',\n",
       "      'Inputs': {'FunctionInput': 'TaskD_Input', 'ExecutionTime': '4'}}}}}}}"
      ]
     },
     "execution_count": 44,
     "metadata": {},
     "output_type": "execute_result"
    }
   ],
   "source": [
    "milestone_1"
   ]
  },
  {
   "cell_type": "code",
   "execution_count": null,
   "id": "53f05370",
   "metadata": {},
   "outputs": [],
   "source": [
    "def TimeFunction(time_t):\n",
    "    time.sleep(time_t)"
   ]
  },
  {
   "cell_type": "code",
   "execution_count": 144,
   "id": "d98f2662",
   "metadata": {},
   "outputs": [
    {
     "name": "stdout",
     "output_type": "stream",
     "text": [
      "Entry\n",
      "Executing TimeFunction ( TaskA_Input ,  1 )\n",
      "Exit\n",
      "Entry\n",
      "Executing TimeFunction ( TaskB_Input ,  2 )\n",
      "Exit\n",
      "Entry\n",
      "Executing TimeFunction ( TaskC_Input ,  3 )\n",
      "Exit\n",
      "Entry\n",
      "Executing TimeFunction ( TaskD_Input ,  4 )\n",
      "Exit\n"
     ]
    }
   ],
   "source": [
    "log_file = []\n",
    "def nested_dict_pairs_iterator(dict_obj):\n",
    "    for key, value in dict_obj.items():\n",
    "        str1 = \"\"\n",
    "        if isinstance(value, dict):\n",
    "            if key not in ['Activities', 'Inputs']:\n",
    "                str1 += str(datetime.datetime.now()) + ';' + key + \" Entry\"\n",
    "                log_file.append(str1)\n",
    "            list1 = []\n",
    "            for key in dict_obj.keys():\n",
    "                list1.append(key)\n",
    "            if 'Type' in list1:\n",
    "                if dict_obj['Type'] == 'Flow':\n",
    "                    if key != 'Activities':\n",
    "                        print(key,\"Entry\")\n",
    "                    nested_dict_pairs_iterator(dict_obj[key])\n",
    "                elif dict_obj['Type'] == 'Task':\n",
    "                    print(\"Entry\")\n",
    "                    log_file.append(str(datetime.datetime.now()) + ';' + dict_obj[\"Inputs\"][\"FunctionInput\"] + \" Entry\")\n",
    "                    #print(dict_obj)\n",
    "                    print(\"Executing TimeFunction (\",dict_obj[\"Inputs\"][\"FunctionInput\"],\", \",dict_obj[\"Inputs\"][\"ExecutionTime\"],\")\")\n",
    "                    s = str(datetime.datetime.now()) + ';' +\"Executing TimeFunction (\" + dict_obj[\"Inputs\"][\"FunctionInput\"]+\", \"+dict_obj[\"Inputs\"][\"ExecutionTime\"]+\")\"\n",
    "                    log_file.append(s)\n",
    "                    TimeFunction(int(dict_obj[\"Inputs\"][\"ExecutionTime\"]))\n",
    "                    print(\"Exit\")\n",
    "                    s1 = str(datetime.datetime.now()) + ';' + \"Exit\"\n",
    "                    log_file.append(s1)\n",
    "            for pair in  nested_dict_pairs_iterator(value):\n",
    "                yield (key, *pair)\n",
    "        else:\n",
    "            yield (key, value)\n",
    "for pair in nested_dict_pairs_iterator(milestone_1):\n",
    "    x = 0"
   ]
  },
  {
   "cell_type": "code",
   "execution_count": 254,
   "id": "9f6982ad",
   "metadata": {},
   "outputs": [],
   "source": [
    "def type_fn(dict_obj, a):\n",
    "    if dict_obj['Type'] == 'Task':\n",
    "        s = str(datetime.datetime.now()) + ';' + a +\" Executing TimeFunction (\" + dict_obj[\"Inputs\"][\"FunctionInput\"]+\", \"+dict_obj[\"Inputs\"][\"ExecutionTime\"]+\")\"\n",
    "        log_file.append(s)\n",
    "        \n",
    "        TimeFunction(int(dict_obj[\"Inputs\"][\"ExecutionTime\"]))\n",
    "        \n",
    "        s1 = str(datetime.datetime.now()) + ';' + a +\" Exit\"\n",
    "        log_file.append(s1)\n",
    "        a = a[0:-6]\n",
    "        print(\"----\", a)\n",
    "    return dict_obj, a"
   ]
  },
  {
   "cell_type": "code",
   "execution_count": 255,
   "id": "ebd91d17",
   "metadata": {},
   "outputs": [
    {
     "name": "stdout",
     "output_type": "stream",
     "text": [
      "---- M1A_Workflow\n",
      "---- M1A_Workflow.TaskA\n",
      "---- M1A_Workflow.TaskA.TaskB.FlowA\n",
      "---- M1A_Workflow.TaskA.TaskB.FlowA.TaskC\n"
     ]
    }
   ],
   "source": [
    "# copy2\n",
    "log_file = []\n",
    "flow_list = []\n",
    "def nested_dict_pairs_iterator2(dict_obj, a):\n",
    "    for key, value in dict_obj.items():\n",
    "        str1 = \"\"\n",
    "        if isinstance(value, dict):\n",
    "            list1 = []\n",
    "            for key1 in dict_obj.keys():\n",
    "                list1.append(key1)\n",
    "            if key not in ['Activities', 'Inputs', 'FunctionInput']:\n",
    "                if a == \"\":\n",
    "                    a += key\n",
    "                else:\n",
    "                    '''if 'Type' in list1:\n",
    "                        if dict_obj['Type'] == 'Task':\n",
    "                            a = a[0:-6]\n",
    "                            print(a)'''\n",
    "                    a = a + \".\" + key\n",
    "                str1 += str(datetime.datetime.now()) + ';' + a + \" Entry\"\n",
    "                log_file.append(str1)\n",
    "            if 'Type' in list1:\n",
    "                if dict_obj['Type'] == 'Flow':\n",
    "                    nested_dict_pairs_iterator2(dict_obj[key], a)\n",
    "                else:\n",
    "                    dict_obj, a = type_fn(dict_obj, a)\n",
    "                    #print(a)\n",
    "            for pair in  nested_dict_pairs_iterator2(value, a):\n",
    "                yield (key, *pair)\n",
    "        else:\n",
    "            yield (key, value)\n",
    "            \n",
    "for pair in nested_dict_pairs_iterator2(milestone_1, \"\"):\n",
    "    x = 0"
   ]
  },
  {
   "cell_type": "code",
   "execution_count": 252,
   "id": "94ce7d25",
   "metadata": {},
   "outputs": [
    {
     "data": {
      "text/plain": [
       "['2022-03-08 15:02:01.448843;M1A_Workflow Entry',\n",
       " '2022-03-08 15:02:01.448843;M1A_Workflow.TaskA Entry',\n",
       " '2022-03-08 15:02:01.448843;M1A_Workflow.TaskA Executing TimeFunction (TaskA_Input, 1)',\n",
       " '2022-03-08 15:02:02.452349;M1A_Workflow.TaskA Exit',\n",
       " '2022-03-08 15:02:02.452558;M1A_Workflow.TaskA.TaskB Entry',\n",
       " '2022-03-08 15:02:02.452637;M1A_Workflow.TaskA.TaskB Executing TimeFunction (TaskB_Input, 2)',\n",
       " '2022-03-08 15:02:04.454188;M1A_Workflow.TaskA.TaskB Exit',\n",
       " '2022-03-08 15:02:04.454188;M1A_Workflow.TaskA.TaskB.FlowA Entry',\n",
       " '2022-03-08 15:02:04.454188;M1A_Workflow.TaskA.TaskB.FlowA.TaskC Entry',\n",
       " '2022-03-08 15:02:04.454188;M1A_Workflow.TaskA.TaskB.FlowA.TaskC Executing TimeFunction (TaskC_Input, 3)',\n",
       " '2022-03-08 15:02:07.454491;M1A_Workflow.TaskA.TaskB.FlowA.TaskC Exit',\n",
       " '2022-03-08 15:02:07.454736;M1A_Workflow.TaskA.TaskB.FlowA.TaskC.TaskD Entry',\n",
       " '2022-03-08 15:02:07.454736;M1A_Workflow.TaskA.TaskB.FlowA.TaskC.TaskD Executing TimeFunction (TaskD_Input, 4)',\n",
       " '2022-03-08 15:02:11.456179;M1A_Workflow.TaskA.TaskB.FlowA.TaskC.TaskD Exit']"
      ]
     },
     "execution_count": 252,
     "metadata": {},
     "output_type": "execute_result"
    }
   ],
   "source": [
    "log_file"
   ]
  },
  {
   "cell_type": "markdown",
   "id": "6978f7b1",
   "metadata": {},
   "source": [
    "# -----------------------------------------------------------------------------"
   ]
  },
  {
   "cell_type": "code",
   "execution_count": null,
   "id": "3185c976",
   "metadata": {},
   "outputs": [],
   "source": [
    "def append_log_file(log_file, old_str, curr_str):\n",
    "    str1 += str(datetime.datetime.now()) + ';' + old_str + '.' + curr_str + \" Entry\"\n",
    "    log_file.append(str1)\n",
    "    return log_file"
   ]
  },
  {
   "cell_type": "code",
   "execution_count": 268,
   "id": "1370a77b",
   "metadata": {},
   "outputs": [
    {
     "name": "stdout",
     "output_type": "stream",
     "text": [
      "Inputs\n"
     ]
    },
    {
     "ename": "TypeError",
     "evalue": "type_fn() missing 1 required positional argument: 'a'",
     "output_type": "error",
     "traceback": [
      "\u001b[1;31m---------------------------------------------------------------------------\u001b[0m",
      "\u001b[1;31mTypeError\u001b[0m                                 Traceback (most recent call last)",
      "\u001b[1;32m<ipython-input-268-3b5791614539>\u001b[0m in \u001b[0;36m<module>\u001b[1;34m\u001b[0m\n\u001b[0;32m     20\u001b[0m         \u001b[1;32melse\u001b[0m\u001b[1;33m:\u001b[0m\u001b[1;33m\u001b[0m\u001b[1;33m\u001b[0m\u001b[0m\n\u001b[0;32m     21\u001b[0m             \u001b[1;32myield\u001b[0m \u001b[1;33m(\u001b[0m\u001b[0mkey\u001b[0m\u001b[1;33m,\u001b[0m \u001b[0mvalue\u001b[0m\u001b[1;33m)\u001b[0m\u001b[1;33m\u001b[0m\u001b[1;33m\u001b[0m\u001b[0m\n\u001b[1;32m---> 22\u001b[1;33m \u001b[1;32mfor\u001b[0m \u001b[0mpair\u001b[0m \u001b[1;32min\u001b[0m \u001b[0mflow_fn\u001b[0m\u001b[1;33m(\u001b[0m\u001b[0mmilestone_1\u001b[0m\u001b[1;33m)\u001b[0m\u001b[1;33m:\u001b[0m\u001b[1;33m\u001b[0m\u001b[1;33m\u001b[0m\u001b[0m\n\u001b[0m\u001b[0;32m     23\u001b[0m     \u001b[0mx\u001b[0m \u001b[1;33m=\u001b[0m \u001b[1;36m0\u001b[0m\u001b[1;33m\u001b[0m\u001b[1;33m\u001b[0m\u001b[0m\n",
      "\u001b[1;32m<ipython-input-268-3b5791614539>\u001b[0m in \u001b[0;36mflow_fn\u001b[1;34m(dict_)\u001b[0m\n\u001b[0;32m     16\u001b[0m                     \u001b[0mprint\u001b[0m\u001b[1;33m(\u001b[0m\u001b[0mkey_value\u001b[0m\u001b[1;33m)\u001b[0m\u001b[1;33m\u001b[0m\u001b[1;33m\u001b[0m\u001b[0m\n\u001b[0;32m     17\u001b[0m                     \u001b[0mdict_\u001b[0m \u001b[1;33m=\u001b[0m \u001b[0mtype_fn\u001b[0m\u001b[1;33m(\u001b[0m\u001b[0mdict_\u001b[0m\u001b[1;33m)\u001b[0m\u001b[1;33m\u001b[0m\u001b[1;33m\u001b[0m\u001b[0m\n\u001b[1;32m---> 18\u001b[1;33m             \u001b[1;32mfor\u001b[0m \u001b[0mpair\u001b[0m \u001b[1;32min\u001b[0m  \u001b[0mflow_fn\u001b[0m\u001b[1;33m(\u001b[0m\u001b[0mvalue\u001b[0m\u001b[1;33m)\u001b[0m\u001b[1;33m:\u001b[0m\u001b[1;33m\u001b[0m\u001b[1;33m\u001b[0m\u001b[0m\n\u001b[0m\u001b[0;32m     19\u001b[0m                 \u001b[1;32myield\u001b[0m \u001b[1;33m(\u001b[0m\u001b[0mkey\u001b[0m\u001b[1;33m,\u001b[0m \u001b[1;33m*\u001b[0m\u001b[0mpair\u001b[0m\u001b[1;33m)\u001b[0m\u001b[1;33m\u001b[0m\u001b[1;33m\u001b[0m\u001b[0m\n\u001b[0;32m     20\u001b[0m         \u001b[1;32melse\u001b[0m\u001b[1;33m:\u001b[0m\u001b[1;33m\u001b[0m\u001b[1;33m\u001b[0m\u001b[0m\n",
      "\u001b[1;32m<ipython-input-268-3b5791614539>\u001b[0m in \u001b[0;36mflow_fn\u001b[1;34m(dict_)\u001b[0m\n\u001b[0;32m     16\u001b[0m                     \u001b[0mprint\u001b[0m\u001b[1;33m(\u001b[0m\u001b[0mkey_value\u001b[0m\u001b[1;33m)\u001b[0m\u001b[1;33m\u001b[0m\u001b[1;33m\u001b[0m\u001b[0m\n\u001b[0;32m     17\u001b[0m                     \u001b[0mdict_\u001b[0m \u001b[1;33m=\u001b[0m \u001b[0mtype_fn\u001b[0m\u001b[1;33m(\u001b[0m\u001b[0mdict_\u001b[0m\u001b[1;33m)\u001b[0m\u001b[1;33m\u001b[0m\u001b[1;33m\u001b[0m\u001b[0m\n\u001b[1;32m---> 18\u001b[1;33m             \u001b[1;32mfor\u001b[0m \u001b[0mpair\u001b[0m \u001b[1;32min\u001b[0m  \u001b[0mflow_fn\u001b[0m\u001b[1;33m(\u001b[0m\u001b[0mvalue\u001b[0m\u001b[1;33m)\u001b[0m\u001b[1;33m:\u001b[0m\u001b[1;33m\u001b[0m\u001b[1;33m\u001b[0m\u001b[0m\n\u001b[0m\u001b[0;32m     19\u001b[0m                 \u001b[1;32myield\u001b[0m \u001b[1;33m(\u001b[0m\u001b[0mkey\u001b[0m\u001b[1;33m,\u001b[0m \u001b[1;33m*\u001b[0m\u001b[0mpair\u001b[0m\u001b[1;33m)\u001b[0m\u001b[1;33m\u001b[0m\u001b[1;33m\u001b[0m\u001b[0m\n\u001b[0;32m     20\u001b[0m         \u001b[1;32melse\u001b[0m\u001b[1;33m:\u001b[0m\u001b[1;33m\u001b[0m\u001b[1;33m\u001b[0m\u001b[0m\n",
      "\u001b[1;32m<ipython-input-268-3b5791614539>\u001b[0m in \u001b[0;36mflow_fn\u001b[1;34m(dict_)\u001b[0m\n\u001b[0;32m     16\u001b[0m                     \u001b[0mprint\u001b[0m\u001b[1;33m(\u001b[0m\u001b[0mkey_value\u001b[0m\u001b[1;33m)\u001b[0m\u001b[1;33m\u001b[0m\u001b[1;33m\u001b[0m\u001b[0m\n\u001b[0;32m     17\u001b[0m                     \u001b[0mdict_\u001b[0m \u001b[1;33m=\u001b[0m \u001b[0mtype_fn\u001b[0m\u001b[1;33m(\u001b[0m\u001b[0mdict_\u001b[0m\u001b[1;33m)\u001b[0m\u001b[1;33m\u001b[0m\u001b[1;33m\u001b[0m\u001b[0m\n\u001b[1;32m---> 18\u001b[1;33m             \u001b[1;32mfor\u001b[0m \u001b[0mpair\u001b[0m \u001b[1;32min\u001b[0m  \u001b[0mflow_fn\u001b[0m\u001b[1;33m(\u001b[0m\u001b[0mvalue\u001b[0m\u001b[1;33m)\u001b[0m\u001b[1;33m:\u001b[0m\u001b[1;33m\u001b[0m\u001b[1;33m\u001b[0m\u001b[0m\n\u001b[0m\u001b[0;32m     19\u001b[0m                 \u001b[1;32myield\u001b[0m \u001b[1;33m(\u001b[0m\u001b[0mkey\u001b[0m\u001b[1;33m,\u001b[0m \u001b[1;33m*\u001b[0m\u001b[0mpair\u001b[0m\u001b[1;33m)\u001b[0m\u001b[1;33m\u001b[0m\u001b[1;33m\u001b[0m\u001b[0m\n\u001b[0;32m     20\u001b[0m         \u001b[1;32melse\u001b[0m\u001b[1;33m:\u001b[0m\u001b[1;33m\u001b[0m\u001b[1;33m\u001b[0m\u001b[0m\n",
      "\u001b[1;32m<ipython-input-268-3b5791614539>\u001b[0m in \u001b[0;36mflow_fn\u001b[1;34m(dict_)\u001b[0m\n\u001b[0;32m     15\u001b[0m                 \u001b[1;32melif\u001b[0m \u001b[0mdict_\u001b[0m\u001b[1;33m[\u001b[0m\u001b[1;34m'Type'\u001b[0m\u001b[1;33m]\u001b[0m \u001b[1;33m==\u001b[0m \u001b[1;34m'Task'\u001b[0m\u001b[1;33m:\u001b[0m\u001b[1;33m\u001b[0m\u001b[1;33m\u001b[0m\u001b[0m\n\u001b[0;32m     16\u001b[0m                     \u001b[0mprint\u001b[0m\u001b[1;33m(\u001b[0m\u001b[0mkey_value\u001b[0m\u001b[1;33m)\u001b[0m\u001b[1;33m\u001b[0m\u001b[1;33m\u001b[0m\u001b[0m\n\u001b[1;32m---> 17\u001b[1;33m                     \u001b[0mdict_\u001b[0m \u001b[1;33m=\u001b[0m \u001b[0mtype_fn\u001b[0m\u001b[1;33m(\u001b[0m\u001b[0mdict_\u001b[0m\u001b[1;33m)\u001b[0m\u001b[1;33m\u001b[0m\u001b[1;33m\u001b[0m\u001b[0m\n\u001b[0m\u001b[0;32m     18\u001b[0m             \u001b[1;32mfor\u001b[0m \u001b[0mpair\u001b[0m \u001b[1;32min\u001b[0m  \u001b[0mflow_fn\u001b[0m\u001b[1;33m(\u001b[0m\u001b[0mvalue\u001b[0m\u001b[1;33m)\u001b[0m\u001b[1;33m:\u001b[0m\u001b[1;33m\u001b[0m\u001b[1;33m\u001b[0m\u001b[0m\n\u001b[0;32m     19\u001b[0m                 \u001b[1;32myield\u001b[0m \u001b[1;33m(\u001b[0m\u001b[0mkey\u001b[0m\u001b[1;33m,\u001b[0m \u001b[1;33m*\u001b[0m\u001b[0mpair\u001b[0m\u001b[1;33m)\u001b[0m\u001b[1;33m\u001b[0m\u001b[1;33m\u001b[0m\u001b[0m\n",
      "\u001b[1;31mTypeError\u001b[0m: type_fn() missing 1 required positional argument: 'a'"
     ]
    }
   ],
   "source": [
    "flow_list = []\n",
    "def m1aworkflow_fn(dict_):\n",
    "    for key, value in dict_.items():\n",
    "        if isinstance(value, dict):\n",
    "            key_value = key\n",
    "            if key_value not in ['Activities', 'Inputs']:\n",
    "                flow_list.append(key_value)\n",
    "            list1 = []\n",
    "            if key not in ['Activities', 'Inputs', 'FunctionInput']:\n",
    "                if a == \"\":\n",
    "                    \n",
    "                else:\n",
    "                    a = a + \".\" + key\n",
    "            for key1 in dict_.keys():\n",
    "                list1.append(key1)\n",
    "            if 'Type' in list1:\n",
    "                if dict_['Type'] == 'Flow':\n",
    "                    dict_new = dict_['Activities']\n",
    "                    flow_fn(dict_new)\n",
    "                elif dict_['Type'] == 'Task':\n",
    "                    print(key_value)\n",
    "                    dict_ = type_fn(dict_)\n",
    "            for pair in  m1aworkflow_fn(value):\n",
    "                yield (key, *pair)\n",
    "        else:\n",
    "            yield (key, value)\n",
    "for pair in m1aworkflow_fn(milestone_1):\n",
    "    x = 0"
   ]
  },
  {
   "cell_type": "markdown",
   "id": "45fc3a0c",
   "metadata": {},
   "source": [
    "# -----------------------------------------------------------------------------"
   ]
  },
  {
   "cell_type": "code",
   "execution_count": 155,
   "id": "e67743ad",
   "metadata": {},
   "outputs": [],
   "source": [
    "textfile = open(\"output_1A.txt\", \"w\")\n",
    "for element in log_file:\n",
    "    textfile.write(element + \"\\n\")\n",
    "textfile.close()"
   ]
  },
  {
   "cell_type": "markdown",
   "id": "1c513cae",
   "metadata": {},
   "source": [
    "# Milestone_1B"
   ]
  },
  {
   "cell_type": "code",
   "execution_count": 114,
   "id": "4b58bd06",
   "metadata": {},
   "outputs": [],
   "source": [
    "with open('DataSet/Milestone1/Milestone1B.yaml', 'r') as file:\n",
    "    milestone_2 = yaml.safe_load(file)"
   ]
  },
  {
   "cell_type": "code",
   "execution_count": 235,
   "id": "8bba3e67",
   "metadata": {},
   "outputs": [],
   "source": [
    "# copy\n",
    "log_file = []\n",
    "def nested_dict_pairs_iterator2(dict_obj, a):\n",
    "    for key, value in dict_obj.items():\n",
    "        str1 = \"\"\n",
    "        if isinstance(value, dict):\n",
    "            if key not in ['Activities', 'Inputs', 'FunctionInput']:\n",
    "                if a == \"\":\n",
    "                    a += key\n",
    "                else:\n",
    "                    a += \".\" + key\n",
    "                '''if p == 0:\n",
    "                    a = a[0:-6]\n",
    "                    a += \".\" + key'''\n",
    "                str1 += str(datetime.datetime.now()) + ';' + a + \" Entry\"\n",
    "                log_file.append(str1)\n",
    "            list1 = []\n",
    "            for key in dict_obj.keys():\n",
    "                list1.append(key)\n",
    "            if 'Type' in list1:\n",
    "                if dict_obj['Type'] == 'Flow':\n",
    "                    nested_dict_pairs_iterator2(dict_obj[key], a)\n",
    "                else:\n",
    "                    dict_obj, a = type_fn(dict_obj, a)\n",
    "            for pair in  nested_dict_pairs_iterator2(value, a):\n",
    "                yield (key, *pair)\n",
    "        else:\n",
    "            yield (key, value)\n",
    "            \n",
    "for pair in nested_dict_pairs_iterator2(milestone_1, \"\"):\n",
    "    x = 0"
   ]
  },
  {
   "cell_type": "code",
   "execution_count": 115,
   "id": "27b8a8be",
   "metadata": {},
   "outputs": [
    {
     "name": "stdout",
     "output_type": "stream",
     "text": [
      "Entry\n",
      "Executing TimeFunction ( TaskA_Input ,  1 )\n",
      "Exit\n",
      "Entry\n",
      "Executing TimeFunction ( TaskB_Input ,  14 )\n",
      "Exit\n",
      "Entry\n",
      "Executing TimeFunction ( TaskC_Input ,  5 )\n",
      "Exit\n",
      "Entry\n",
      "Executing TimeFunction ( TaskD_Input ,  5 )\n",
      "Exit\n",
      "Entry\n",
      "Executing TimeFunction ( TaskE_Input ,  5 )\n",
      "Exit\n",
      "Entry\n",
      "Executing TimeFunction ( TaskF_Input ,  1 )\n",
      "Exit\n",
      "Entry\n",
      "Executing TimeFunction ( TaskG_Input ,  2 )\n",
      "Exit\n",
      "Entry\n",
      "Executing TimeFunction ( TaskH_Input ,  2 )\n",
      "Exit\n",
      "Entry\n",
      "Executing TimeFunction ( TaskI_Input ,  5 )\n",
      "Exit\n",
      "Entry\n",
      "Executing TimeFunction ( TaskZ_Input ,  5 )\n",
      "Exit\n"
     ]
    }
   ],
   "source": [
    "log_file2 = []\n",
    "def nested_dict_pairs_iterator(dict_obj):\n",
    "    for key, value in dict_obj.items():\n",
    "        str1 = \"\"\n",
    "        if isinstance(value, dict):\n",
    "            if key not in ['Activities', 'Inputs']:\n",
    "                str1 += str(datetime.datetime.now()) + ';' + key + \" Entry\"\n",
    "                log_file2.append(str1)\n",
    "            list1 = []\n",
    "            for key in dict_obj.keys():\n",
    "                list1.append(key)\n",
    "            if 'Type' in list1:\n",
    "                if dict_obj['Type'] == 'Flow':\n",
    "                    if key != 'Activities':\n",
    "                        print(key,\"Entry\")\n",
    "                    # print(dict_obj)\n",
    "                    nested_dict_pairs_iterator(dict_obj[key])\n",
    "                elif dict_obj['Type'] == 'Task':\n",
    "                    print(\"Entry\")\n",
    "                    log_file2.append(str(datetime.datetime.now()) + ';' + dict_obj[\"Inputs\"][\"FunctionInput\"] + \" Entry\")\n",
    "                    #print(dict_obj)\n",
    "                    print(\"Executing TimeFunction (\",dict_obj[\"Inputs\"][\"FunctionInput\"],\", \",dict_obj[\"Inputs\"][\"ExecutionTime\"],\")\")\n",
    "                    s = str(datetime.datetime.now()) + ';' +\"Executing TimeFunction (\" + dict_obj[\"Inputs\"][\"FunctionInput\"]+\", \"+dict_obj[\"Inputs\"][\"ExecutionTime\"]+\")\"\n",
    "                    log_file2.append(s)\n",
    "                    TimeFunction(int(dict_obj[\"Inputs\"][\"ExecutionTime\"]))\n",
    "                    print(\"Exit\")\n",
    "                    s1 = str(datetime.datetime.now()) + ';' + \"Exit\"\n",
    "                    log_file2.append(s1)\n",
    "            for pair in  nested_dict_pairs_iterator(value):\n",
    "                yield (key, *pair)\n",
    "        else:\n",
    "            yield (key, value)\n",
    "for pair in nested_dict_pairs_iterator(milestone_2):\n",
    "    x = 0"
   ]
  },
  {
   "cell_type": "code",
   "execution_count": 122,
   "id": "0d944c88",
   "metadata": {},
   "outputs": [
    {
     "data": {
      "text/plain": [
       "['2022-03-08 12:13:10.626882;M1B_Workflow Entry',\n",
       " '2022-03-08 12:13:10.626882;TaskA Entry',\n",
       " '2022-03-08 12:13:10.626882;TaskA_Input Entry',\n",
       " '2022-03-08 12:13:10.626882;Executing TimeFunction (TaskA_Input, 1)',\n",
       " '2022-03-08 12:13:11.638798;Exit',\n",
       " '2022-03-08 12:13:11.638978;FlowA Entry',\n",
       " '2022-03-08 12:13:11.638978;TaskB Entry',\n",
       " '2022-03-08 12:13:11.638978;TaskB_Input Entry',\n",
       " '2022-03-08 12:13:11.638978;Executing TimeFunction (TaskB_Input, 14)',\n",
       " '2022-03-08 12:13:25.644404;Exit',\n",
       " '2022-03-08 12:13:25.644404;TaskC Entry',\n",
       " '2022-03-08 12:13:25.644404;TaskC_Input Entry',\n",
       " '2022-03-08 12:13:25.645349;Executing TimeFunction (TaskC_Input, 5)',\n",
       " '2022-03-08 12:13:30.655308;Exit',\n",
       " '2022-03-08 12:13:30.655308;TaskD Entry',\n",
       " '2022-03-08 12:13:30.655308;TaskD_Input Entry',\n",
       " '2022-03-08 12:13:30.656265;Executing TimeFunction (TaskD_Input, 5)',\n",
       " '2022-03-08 12:13:35.670507;Exit',\n",
       " '2022-03-08 12:13:35.670507;FlowB Entry',\n",
       " '2022-03-08 12:13:35.670507;TaskE Entry',\n",
       " '2022-03-08 12:13:35.670507;TaskE_Input Entry',\n",
       " '2022-03-08 12:13:35.672118;Executing TimeFunction (TaskE_Input, 5)',\n",
       " '2022-03-08 12:13:40.676320;Exit',\n",
       " '2022-03-08 12:13:40.676320;TaskF Entry',\n",
       " '2022-03-08 12:13:40.676320;TaskF_Input Entry',\n",
       " '2022-03-08 12:13:40.678342;Executing TimeFunction (TaskF_Input, 1)',\n",
       " '2022-03-08 12:13:41.692195;Exit',\n",
       " '2022-03-08 12:13:41.692195;FlowC Entry',\n",
       " '2022-03-08 12:13:41.692195;TaskG Entry',\n",
       " '2022-03-08 12:13:41.692195;TaskG_Input Entry',\n",
       " '2022-03-08 12:13:41.692195;Executing TimeFunction (TaskG_Input, 2)',\n",
       " '2022-03-08 12:13:43.699570;Exit',\n",
       " '2022-03-08 12:13:43.699570;TaskH Entry',\n",
       " '2022-03-08 12:13:43.699570;TaskH_Input Entry',\n",
       " '2022-03-08 12:13:43.700505;Executing TimeFunction (TaskH_Input, 2)',\n",
       " '2022-03-08 12:13:45.712164;Exit',\n",
       " '2022-03-08 12:13:45.712164;TaskI Entry',\n",
       " '2022-03-08 12:13:45.712711;TaskI_Input Entry',\n",
       " '2022-03-08 12:13:45.714212;Executing TimeFunction (TaskI_Input, 5)',\n",
       " '2022-03-08 12:13:50.720043;Exit',\n",
       " '2022-03-08 12:13:50.720043;TaskZ Entry',\n",
       " '2022-03-08 12:13:50.720580;TaskZ_Input Entry',\n",
       " '2022-03-08 12:13:50.720580;Executing TimeFunction (TaskZ_Input, 5)',\n",
       " '2022-03-08 12:13:55.728803;Exit']"
      ]
     },
     "execution_count": 122,
     "metadata": {},
     "output_type": "execute_result"
    }
   ],
   "source": [
    "log_file2"
   ]
  }
 ],
 "metadata": {
  "kernelspec": {
   "display_name": "Python 3",
   "language": "python",
   "name": "python3"
  },
  "language_info": {
   "codemirror_mode": {
    "name": "ipython",
    "version": 3
   },
   "file_extension": ".py",
   "mimetype": "text/x-python",
   "name": "python",
   "nbconvert_exporter": "python",
   "pygments_lexer": "ipython3",
   "version": "3.8.8"
  }
 },
 "nbformat": 4,
 "nbformat_minor": 5
}
